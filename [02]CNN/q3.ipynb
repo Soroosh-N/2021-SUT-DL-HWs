{
  "cells": [
    {
      "cell_type": "markdown",
      "metadata": {
        "id": "za4sFfvxdX6u"
      },
      "source": [
        "Deep HW - Q3<br/>\n",
        "Soroosh Noorzad - 99205372"
      ]
    },
    {
      "cell_type": "markdown",
      "metadata": {
        "id": "sSiZ7udSdX6y"
      },
      "source": [
        "## Table Of Contents:\n",
        "* [PART A - Inception using Transfer learning](#PA)\n",
        "* [PART B - Learn top model](#PB)"
      ]
    },
    {
      "cell_type": "markdown",
      "metadata": {
        "id": "O390UOBYdX6y"
      },
      "source": [
        "# PART A - Inception using Transfer learning:<a class=\"anchor\" id=\"PA\"></a>"
      ]
    },
    {
      "cell_type": "code",
      "execution_count": 2,
      "metadata": {
        "colab": {
          "base_uri": "https://localhost:8080/"
        },
        "id": "3k2K4D5KdX6z",
        "outputId": "8e5f4404-3272-4832-abac-d7542d2a43cc"
      },
      "outputs": [
        {
          "name": "stdout",
          "output_type": "stream",
          "text": [
            "Downloading data from https://storage.googleapis.com/tensorflow/keras-applications/inception_v3/inception_v3_weights_tf_dim_ordering_tf_kernels.h5\n",
            "96116736/96112376 [==============================] - 2s 0us/step\n",
            "96124928/96112376 [==============================] - 2s 0us/step\n",
            "Downloading data from https://storage.googleapis.com/download.tensorflow.org/data/imagenet_class_index.json\n",
            "40960/35363 [==================================] - 0s 0us/step\n",
            "49152/35363 [=========================================] - 0s 0us/step\n",
            "stopwatch (96.34%)\n",
            "scale (0.24%)\n",
            "mortarboard (0.14%)\n"
          ]
        }
      ],
      "source": [
        "# example of using a pre-trained model as a classifier\n",
        "from keras.preprocessing.image import load_img\n",
        "from keras.preprocessing.image import img_to_array\n",
        "from keras.applications.inception_v3 import decode_predictions, preprocess_input\n",
        "\n",
        "# example of loading the inception v3 model\n",
        "from keras.applications.inception_v3 import InceptionV3\n",
        "\n",
        "# load an image from file\n",
        "image = load_img('Stopwatch.jpg', target_size=(299, 299))\n",
        "# convert the image pixels to a numpy array\n",
        "image = img_to_array(image)\n",
        "# reshape data for the model\n",
        "image = image.reshape((1, image.shape[0], image.shape[1], image.shape[2]))\n",
        "image = preprocess_input(image)\n",
        "\n",
        "# load model\n",
        "model = InceptionV3()\n",
        "# summarize the model\n",
        "# model.summary()\n",
        "\n",
        "# predict the probability across all output classes\n",
        "yhat = model.predict(image)\n",
        "# convert the probabilities to class labels\n",
        "label = decode_predictions(yhat)\n",
        "# retrieve the most likely result, e.g. highest probability\n",
        "for i in range(3):\n",
        "  # print the classification\n",
        "  print('%s (%.2f%%)' % (label[0][i][1], label[0][i][2]*100))"
      ]
    },
    {
      "cell_type": "markdown",
      "metadata": {
        "id": "mKGGtb_SdX61"
      },
      "source": [
        "# PART B - Learn top model:<a class=\"anchor\" id=\"PB\"></a>"
      ]
    },
    {
      "cell_type": "markdown",
      "metadata": {
        "id": "YJzblze3dX61"
      },
      "source": [
        "Run cell below, if and only if when the main run got exhausted."
      ]
    },
    {
      "cell_type": "code",
      "execution_count": null,
      "metadata": {
        "id": "DGt0rX4ydX62"
      },
      "outputs": [],
      "source": [
        "# To restrain GPU from exhausting (to free up RAM):\n",
        "# Don't run this cell, if there is no need to!\n",
        "from numba import cuda\n",
        "device = cuda.get_current_device()\n",
        "device.reset()"
      ]
    },
    {
      "cell_type": "markdown",
      "metadata": {
        "id": "Xel-9XJKdX62"
      },
      "source": [
        "Main procedure:"
      ]
    },
    {
      "cell_type": "code",
      "execution_count": 7,
      "metadata": {
        "colab": {
          "base_uri": "https://localhost:8080/",
          "height": 1000
        },
        "id": "EgGS7x7QdX63",
        "outputId": "47f630c2-bf88-42bc-97a5-93f8d62ea151"
      },
      "outputs": [
        {
          "name": "stdout",
          "output_type": "stream",
          "text": [
            "Importing libraries.\n",
            "TensorFlow version: 2.7.0\n",
            "Libraries imported.\n",
            "\n",
            "Reading data started.\n",
            "Reading data finished.\n",
            "\n",
            "Creating the model.\n",
            "Model created.\n",
            "\n",
            "Learn the model, Batch size = 40\n",
            "Epoch 1/20\n",
            "8/8 [==============================] - 12s 759ms/step - loss: 0.4907 - accuracy: 0.7688 - val_loss: 0.2193 - val_accuracy: 0.9375\n",
            "Epoch 2/20\n",
            "8/8 [==============================] - 4s 476ms/step - loss: 0.1091 - accuracy: 0.9656 - val_loss: 0.0401 - val_accuracy: 1.0000\n",
            "Epoch 3/20\n",
            "8/8 [==============================] - 4s 556ms/step - loss: 0.0368 - accuracy: 0.9875 - val_loss: 0.0145 - val_accuracy: 1.0000\n",
            "Epoch 4/20\n",
            "8/8 [==============================] - 4s 564ms/step - loss: 0.0193 - accuracy: 0.9937 - val_loss: 0.0103 - val_accuracy: 1.0000\n",
            "Epoch 5/20\n",
            "8/8 [==============================] - 4s 557ms/step - loss: 0.0067 - accuracy: 1.0000 - val_loss: 0.0039 - val_accuracy: 1.0000\n",
            "Epoch 6/20\n",
            "8/8 [==============================] - 4s 478ms/step - loss: 0.0049 - accuracy: 1.0000 - val_loss: 0.0041 - val_accuracy: 1.0000\n",
            "Epoch 7/20\n",
            "8/8 [==============================] - 4s 477ms/step - loss: 0.0030 - accuracy: 1.0000 - val_loss: 0.0029 - val_accuracy: 1.0000\n",
            "Epoch 8/20\n",
            "8/8 [==============================] - 4s 479ms/step - loss: 0.0024 - accuracy: 1.0000 - val_loss: 0.0030 - val_accuracy: 1.0000\n",
            "Epoch 9/20\n",
            "8/8 [==============================] - 4s 475ms/step - loss: 0.0020 - accuracy: 1.0000 - val_loss: 0.0026 - val_accuracy: 1.0000\n",
            "Epoch 10/20\n",
            "8/8 [==============================] - 4s 478ms/step - loss: 0.0018 - accuracy: 1.0000 - val_loss: 0.0024 - val_accuracy: 1.0000\n",
            "Epoch 11/20\n",
            "8/8 [==============================] - 4s 478ms/step - loss: 0.0016 - accuracy: 1.0000 - val_loss: 0.0025 - val_accuracy: 1.0000\n",
            "Epoch 12/20\n",
            "8/8 [==============================] - 4s 476ms/step - loss: 0.0014 - accuracy: 1.0000 - val_loss: 0.0023 - val_accuracy: 1.0000\n",
            "Epoch 13/20\n",
            "8/8 [==============================] - 4s 479ms/step - loss: 0.0013 - accuracy: 1.0000 - val_loss: 0.0021 - val_accuracy: 1.0000\n",
            "Epoch 14/20\n",
            "8/8 [==============================] - 4s 477ms/step - loss: 0.0013 - accuracy: 1.0000 - val_loss: 0.0021 - val_accuracy: 1.0000\n",
            "Epoch 15/20\n",
            "8/8 [==============================] - 4s 477ms/step - loss: 0.0012 - accuracy: 1.0000 - val_loss: 0.0022 - val_accuracy: 1.0000\n",
            "Epoch 16/20\n",
            "8/8 [==============================] - 4s 555ms/step - loss: 0.0011 - accuracy: 1.0000 - val_loss: 0.0021 - val_accuracy: 1.0000\n",
            "Epoch 17/20\n",
            "8/8 [==============================] - 4s 475ms/step - loss: 0.0010 - accuracy: 1.0000 - val_loss: 0.0020 - val_accuracy: 1.0000\n",
            "Epoch 18/20\n",
            "8/8 [==============================] - 4s 552ms/step - loss: 9.7792e-04 - accuracy: 1.0000 - val_loss: 0.0019 - val_accuracy: 1.0000\n",
            "Epoch 19/20\n",
            "8/8 [==============================] - 4s 479ms/step - loss: 9.3466e-04 - accuracy: 1.0000 - val_loss: 0.0018 - val_accuracy: 1.0000\n",
            "Epoch 20/20\n",
            "8/8 [==============================] - 4s 551ms/step - loss: 8.8646e-04 - accuracy: 1.0000 - val_loss: 0.0019 - val_accuracy: 1.0000\n",
            "\n",
            "Plot the Accuracy Curves\n"
          ]
        },
        {
          "data": {
            "image/png": "[encoded data removed]",
            "text/plain": [
              "<Figure size 432x288 with 1 Axes>"
            ]
          },
          "metadata": {
            "needs_background": "light"
          },
          "output_type": "display_data"
        },
        {
          "name": "stdout",
          "output_type": "stream",
          "text": [
            "\n",
            "Plot the Loss Curves\n"
          ]
        },
        {
          "data": {
            "image/png": "[encoded data removed]",
            "text/plain": [
              "<Figure size 432x288 with 1 Axes>"
            ]
          },
          "metadata": {
            "needs_background": "light"
          },
          "output_type": "display_data"
        },
        {
          "name": "stdout",
          "output_type": "stream",
          "text": [
            "\n",
            "Test the model:\n",
            "13/13 [==============================] - 5s 288ms/step - loss: 0.1161 - accuracy: 0.9675\n",
            "Test Loss: 0.11607886105775833 , Test Accuracy: 0.9674999713897705\n",
            "\n",
            "Plot Confusion Matrix:\n",
            "              precision    recall  f1-score   support\n",
            "\n",
            "           0       0.99      0.94      0.97       200\n",
            "           1       0.95      0.99      0.97       200\n",
            "\n",
            "    accuracy                           0.97       400\n",
            "   macro avg       0.97      0.97      0.97       400\n",
            "weighted avg       0.97      0.97      0.97       400\n",
            "\n"
          ]
        },
        {
          "data": {
            "image/png": "[encoded data removed]",
            "text/plain": [
              "<Figure size 720x720 with 2 Axes>"
            ]
          },
          "metadata": {
            "needs_background": "light"
          },
          "output_type": "display_data"
        },
        {
          "name": "stdout",
          "output_type": "stream",
          "text": [
            "Job is done. learning time: 88 seconds\n"
          ]
        }
      ],
      "source": [
        "# Import TF and other requirements\n",
        "print(\"Importing libraries.\")\n",
        "import tensorflow as tf\n",
        "print(\"TensorFlow version:\", tf.__version__)\n",
        "from tensorflow.keras import datasets, layers, models, Sequential, optimizers\n",
        "from sklearn.metrics import ConfusionMatrixDisplay, confusion_matrix, classification_report\n",
        "\n",
        "# Import General libraries\n",
        "import matplotlib.pyplot as plt\n",
        "from pathlib import Path\n",
        "import pandas as pd\n",
        "import numpy as np\n",
        "import random\n",
        "import time\n",
        "import ssl\n",
        "import os\n",
        "\n",
        "# Read Data\n",
        "from six.moves import cPickle as pickle\n",
        "from keras.datasets import cifar10\n",
        "import seaborn as sns\n",
        "\n",
        "# Draw Flow chart\n",
        "from IPython.display import SVG\n",
        "from tensorflow.keras.utils import model_to_dot, plot_model\n",
        "\n",
        "# example of using a pre-trained model as a classifier\n",
        "from tensorflow.keras.preprocessing import image\n",
        "from keras.preprocessing.image import img_to_array, load_img\n",
        "from keras.applications.inception_v3 import decode_predictions, preprocess_input\n",
        "import tensorflow.keras.layers as layers\n",
        "from tensorflow.keras.models import Model\n",
        "\n",
        "# example of loading the inception v3 model\n",
        "from tensorflow.keras.applications.inception_v3 import InceptionV3\n",
        "\n",
        "print(\"Libraries imported.\\n\")\n",
        "\n",
        "# Creating directories if not exist.\n",
        "from pathlib import Path\n",
        "Path(\"figs\").mkdir(parents=True, exist_ok=True)\n",
        "Path(\"models\").mkdir(parents=True, exist_ok=True)\n",
        "\n",
        "# Defines:\n",
        "question_part = \"Q3PB\"\n",
        "model_type = \"Inception\"\n",
        "\n",
        "# Hyper-Parameters\n",
        "num_training=49000\n",
        "num_validation=1000\n",
        "num_test=10000\n",
        "# database path\n",
        "data_path = 'cifar10'\n",
        "classes = ['Plane', 'Car', 'Bird', 'Cat', 'Deer', 'Dog', 'Frog', 'Horse', 'Ship', 'Truck']\n",
        "target_labels = [1, 7]\n",
        "\n",
        "# Optimizer type: sgd, adam\n",
        "opt_type = 'sgd'\n",
        "# train and test samples to learn and evaluate\n",
        "tr_smp = 200\n",
        "te_smp = 200\n",
        "# Batch Size:\n",
        "bs = int(tr_smp/5)\n",
        "# Activation Function:\n",
        "act_func = 'tanh'\n",
        "# Epoch count:\n",
        "ep_count = 20\n",
        "# Loss metric:\n",
        "loss_metric = 'categorical_crossentropy'\n",
        "\n",
        "def model_plotter(model_history, metric, model_name, b_s, a_f):\n",
        "    plt.figure()\n",
        "    plt.plot(model_history.history[metric.lower()],'r')\n",
        "    plt.plot(model_history.history['val_'+metric.lower()],'b')\n",
        "    plt.title(model_name + ' model ' + metric.capitalize() + \" - Batch size \" + str(b_s) + \" - \" + a_f)\n",
        "    plt.ylabel(metric.capitalize())\n",
        "    plt.xlabel('Epoch')\n",
        "    plt.legend(['Train', 'Validation'], loc='best')\n",
        "    plt.grid()\n",
        "    plt.savefig(\"figs/\" + question_part + \"_\" + model_name + \"_\" + metric.lower() + \"_\" + str(b_s) + \"_\" + a_f + \".png\")\n",
        "    plt.show()\n",
        "\n",
        "def read_data(path='cifar10'):\n",
        "    xs = []\n",
        "    ys = []\n",
        "    for b in range(1,6):\n",
        "        # load single batch of cifar\n",
        "        filename = os.path.join(path, 'data_batch_%d' % (b, ))\n",
        "        with open(filename, 'rb') as f:\n",
        "            datadict = pickle.load(f, encoding='latin1')\n",
        "            X = datadict['data'].reshape(10000, 3072)\n",
        "            Y = np.array(datadict['labels'])\n",
        "        xs.append(X)\n",
        "        ys.append(Y)\n",
        "\n",
        "    Xtr = np.concatenate(xs)\n",
        "    Ytr = np.concatenate(ys)\n",
        "    with open(os.path.join(path, 'test_batch'), 'rb') as f:\n",
        "        datadict = pickle.load(f, encoding='latin1')\n",
        "        Xte = datadict['data'].reshape(10000, 3072)\n",
        "        Yte = np.array(datadict['labels'])\n",
        "    \n",
        "    # Subsample the data\n",
        "    r_val = range(num_training, num_training + num_validation)\n",
        "    r_tr = range(num_training)\n",
        "    r_te = range(num_test)\n",
        "    x_val = Xtr[r_val].astype('float32')/255.0\n",
        "    y_val = Ytr[r_val]\n",
        "\n",
        "    # We can split data here, but we don't want.\n",
        "    # x_train = Xtr[r_tr].astype('float32')/255.0\n",
        "    # y_train = Ytr[r_tr]\n",
        "    x_train = Xtr.astype('float32')/255.0\n",
        "    y_train = Ytr\n",
        "\n",
        "    x_test = Xte[r_te].astype('float32')/255.0\n",
        "    y_test = Yte[r_te]\n",
        "    return x_train, y_train, x_val, y_val, x_test, y_test\n",
        "\n",
        "print(\"Reading data started.\")\n",
        "read_data_online = True\n",
        "if read_data_online:\n",
        "    # Read data, using Keras (Needs download):\n",
        "    ssl._create_default_https_context = ssl._create_unverified_context\n",
        "    (x_train, y_train), (x_test, y_test) = cifar10.load_data()\n",
        "\n",
        "    r_val = range(num_training, num_training + num_validation)\n",
        "    r_tr = range(num_training)\n",
        "    r_te = range(num_test)\n",
        "\n",
        "    x_val = x_train[r_val].astype('float32')/255.0\n",
        "    y_val = y_train[r_val]\n",
        "    # x_train = x_train[r_tr].astype('float32')/255.0\n",
        "    x_train = x_train.astype('float32')/255.0\n",
        "    # y_train = y_train[r_tr]\n",
        "    x_test = x_test[r_te].astype('float32')/255.0\n",
        "    y_test = y_test[r_te]\n",
        "    xtr_img = x_train\n",
        "    xte_img = x_test\n",
        "else:\n",
        "    # Read data, using the defined function (locally - Downloaded file):\n",
        "    x_train, y_train, x_val, y_val, x_test, y_test = read_data(data_path)\n",
        "    xtr_img = x_train.reshape(len(x_train), 3, 32, 32).transpose([0, 2, 3, 1])\n",
        "    xte_img = x_test.reshape(len(x_test), 3, 32, 32).transpose([0, 2, 3, 1])\n",
        "\n",
        "def divider(data, lbl_data, lbls, smp_cnt):\n",
        "  lbl_idx = []\n",
        "  lbl_smp_idx = []\n",
        "  x = []\n",
        "  for lbl in lbls:\n",
        "    lbl_idx.append(np.where(lbl_data == lbl))\n",
        "  for i, lbl in enumerate(lbls):\n",
        "    lbl_smp_idx.append(random.sample(lbl_idx[i][0].tolist(), smp_cnt))\n",
        "  for i, _ in enumerate(lbls):\n",
        "    if i == 0:\n",
        "      x = np.asarray(data[lbl_smp_idx[0]])\n",
        "    else:\n",
        "      x = np.append(x, data[lbl_smp_idx[i]], axis=0)\n",
        "  return x, lbl_idx, lbl_smp_idx\n",
        "\n",
        "def resized_images_generator(pics):\n",
        "  res = []\n",
        "  for image in pics:\n",
        "    res.append(tf.image.resize(image, (299, 299)))\n",
        "  return res\n",
        "\n",
        "x_tr, _, _ = divider(x_train, y_train, target_labels, tr_smp)  # 4: Deer 7: Horse\n",
        "x_tr = resized_images_generator(x_tr)\n",
        "# x_tr = tf.image.resize(x_tr, (299, 299))\n",
        "\n",
        "x_te, _, _ = divider(x_test, y_test, target_labels, te_smp)  # 4: Deer 7: Horse\n",
        "x_te = resized_images_generator(x_te)\n",
        "# x_te = tf.image.resize(x_te, (299, 299))\n",
        "\n",
        "# Making classes one hot for the sake of model training:\n",
        "y = np.array([[0]]*tr_smp+[[1]]*tr_smp)\n",
        "y_one_hot = tf.keras.utils.to_categorical(y, 2)\n",
        "\n",
        "\n",
        "# Shuffle data\n",
        "indices = tf.range(start=0, limit=tf.shape(x_tr)[0], dtype=tf.int32)\n",
        "idx = tf.random.shuffle(indices)\n",
        "x_tr = tf.gather(x_tr, idx)\n",
        "x_te = tf.gather(x_te, idx)\n",
        "y = tf.gather(y, idx)\n",
        "y_one_hot = tf.gather(y_one_hot, idx)\n",
        "\n",
        "print(\"Reading data finished.\")\n",
        "\n",
        "\n",
        "\n",
        "print(\"\\nCreating the model.\")\n",
        "\n",
        "# load model\n",
        "base_model = InceptionV3(weights='imagenet',input_shape=(299, 299, 3), include_top=False)\n",
        "\n",
        "# first: train only the top layers\n",
        "# i.e. freeze all convolutional InceptionV3 layers\n",
        "# base_model.trainable = False        # First way\n",
        "for layer in base_model.layers:   # Second way:\n",
        "    layer.trainable = False\n",
        "\n",
        "\n",
        "top_model = base_model.output\n",
        "# top_model = layers.Flatten(name='flatten')(top_model)\n",
        "# # add a global spatial average pooling layer\n",
        "top_model = layers.GlobalAveragePooling2D()(top_model)\n",
        "# let's add a fully-connected layer\n",
        "top_model = layers.Dense(128, activation='relu')(top_model)\n",
        "top_model = layers.Dense(128, activation='relu')(top_model)\n",
        "# and a logistic layer -- let's say we have 200 classes\n",
        "predictions = layers.Dense(2, activation='softmax')(top_model)\n",
        "# this is the model we will train\n",
        "model = Model(inputs=base_model.input, outputs=predictions)\n",
        "# compile the model (should be done *after* setting layers to non-trainable)\n",
        "opt = tf.keras.optimizers.SGD(learning_rate=0.01, momentum=0.9, name=\"SGD\")\n",
        "model.compile(optimizer = opt, loss = \"categorical_crossentropy\", metrics = ['accuracy'])\n",
        "# model.summary()\n",
        "print(\"Model created.\\n\")\n",
        "\n",
        "print(\"Learn the model, Batch size =\", bs)\n",
        "t = time.time()\n",
        "model_learning = model.fit(x_tr, y_one_hot, epochs = ep_count, batch_size=bs, validation_split=0.2, shuffle=True)\n",
        "t = time.time()-t\n",
        "\n",
        "print(\"\\nPlot the Accuracy Curves\")\n",
        "model_plotter(model_learning, 'accuracy', model_type, bs, act_func)\n",
        "\n",
        "print(\"\\nPlot the Loss Curves\")\n",
        "model_plotter(model_learning, 'loss', model_type, bs, act_func)\n",
        "\n",
        "model.save(\"models/cifar10_\" + question_part + \"_\" + model_type + \"_bs\" + str(bs) + \"_\" + act_func + \".h5\")\n",
        "\n",
        "# Model Testing:\n",
        "print(\"\\nTest the model:\")\n",
        "model_test_result = model.evaluate(x_te, y_one_hot)\n",
        "print(\"Test Loss:\", model_test_result[0], \", Test Accuracy:\", model_test_result[1])\n",
        "\n",
        "print(\"\\nPlot Confusion Matrix:\")\n",
        "# Confusion Matrix:\n",
        "y_pred_softmax = model.predict(x_te)\n",
        "y_pred = [np.argmax(y) for y in y_pred_softmax]\n",
        "\n",
        "print(classification_report(y, y_pred))\n",
        "\n",
        "cm = confusion_matrix(y, y_pred)\n",
        "plt.rcParams[\"figure.figsize\"] = (10,10)\n",
        "disp = ConfusionMatrixDisplay(confusion_matrix=cm, display_labels=['car', 'horse'])\n",
        "disp.plot(cmap=plt.cm.Blues)\n",
        "plt.savefig(\"figs/\" + question_part + \"_\" + model_type + \"_confusion_\" + str(bs) + \"_\" + act_func +  \".png\")\n",
        "plt.show()\n",
        "\n",
        "print(\"Job is done. learning time:\", int(t), \"seconds\")"
      ]
    }
  ],
  "metadata": {
    "accelerator": "GPU",
    "colab": {
      "collapsed_sections": [],
      "name": "q3.ipynb",
      "provenance": []
    },
    "kernelspec": {
      "display_name": "Python 3 (ipykernel)",
      "language": "python",
      "name": "python3"
    },
    "language_info": {
      "codemirror_mode": {
        "name": "ipython",
        "version": 3
      },
      "file_extension": ".py",
      "mimetype": "text/x-python",
      "name": "python",
      "nbconvert_exporter": "python",
      "pygments_lexer": "ipython3",
      "version": "3.8.12"
    }
  },
  "nbformat": 4,
  "nbformat_minor": 0
}
